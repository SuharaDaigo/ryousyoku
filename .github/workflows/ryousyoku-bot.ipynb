{
 "cells": [
  {
   "cell_type": "code",
   "execution_count": 2,
   "metadata": {},
   "outputs": [],
   "source": [
    "#エクセルから今日の献立取得\n",
    "from openpyxl import load_workbook\n",
    "#日時取得\n",
    "import datetime\n",
    "#日本時間に変換\n",
    "import pytz\n",
    "#日にち取得\n",
    "now=datetime.datetime.now(pytz.timezone('Asia/Tokyo'))\n",
    "day=now.day\n",
    "\n",
    "# エクセルファイルのロード\n",
    "excel_path='ryousyoku.xlsx'\n",
    "workbook = load_workbook(filename=excel_path, read_only=True)\n",
    "\n",
    "# シートのロード\n",
    "sheet = workbook['Sheet2']\n",
    "date=0\n",
    "\n",
    "i=3\n",
    "while (i<100):\n",
    "   cell_b_value = sheet['B{}'.format(i)].value\n",
    "   cell_c_value = sheet['C{}'.format(i)].value\n",
    "   cell_d_value = sheet['D{}'.format(i)].value\n",
    "   cell_e_value = sheet['E{}'.format(i)].value\n",
    "   cell_f_value = sheet['F{}'.format(i)].value\n",
    "   cell_g_value = sheet['G{}'.format(i)].value\n",
    "   cell_h_value = sheet['H{}'.format(i)].value\n",
    "   # 取得した値の表\n",
    "\n",
    "   if \"{}\".format(day) in cell_b_value:\n",
    "     with open(\"ryousyoku.txt\",\"w\") as f:\n",
    "       print(cell_b_value,file=f)\n",
    "       print(file=f)\n",
    "       print(\"------------- 朝食 -------------\",file=f)      \n",
    "       print(cell_c_value,file=f)\n",
    "       print(cell_d_value,file=f)   \n",
    "\n",
    "     with open(\"ryousyoku3.txt\",\"w\") as f3:   \n",
    "       print(cell_b_value,file=f3)\n",
    "       print(file=f3)\n",
    "       print(\"------------- 昼食 --------------\",file=f3)\n",
    "       print(cell_e_value,file=f3)\n",
    "       print(cell_f_value,file=f3)\n",
    "      \n",
    "\n",
    "     with open(\"ryousyoku2.txt\",\"w\") as f2:\n",
    "       print(cell_b_value,file=f2)\n",
    "       print(file=f2)\n",
    "       print(\"------------- 夕食 -------------\",file=f2)\n",
    "       print(cell_g_value.replace(\"0\",\"no B set\"),file=f2)\n",
    "       print(cell_h_value.replace(\"0\",\" \"),file=f2)\n",
    "      \n",
    "       i = 100\n",
    "\n",
    "   else:\n",
    "     i = i+1 \n",
    "\n",
    "# ロードしたExcelファイルを閉じる\n",
    "workbook.close()"
   ]
  },
  {
   "cell_type": "code",
   "execution_count": 3,
   "metadata": {},
   "outputs": [
    {
     "name": "stdout",
     "output_type": "stream",
     "text": [
      "4月28日\n",
      "(木)\n",
      "\n",
      "------------- 夕食 -------------\n",
      "若鶏のジンジャーソース\n",
      "豚ニラ玉\n",
      "ごぼうサラダ\n",
      "キャベツと油揚げの味噌汁\n",
      "ご飯・コールスローサラダ\n",
      "牛乳\n",
      "\n"
     ]
    }
   ],
   "source": [
    "#夕食をツイート\n",
    "import tweepy\n",
    "CK = \"ZhiQDXi3WTgVg1cmBXgTimDkt\"\n",
    "CS = \"DkfEjACdtF9K7cFQbzIrnNRvQ1oLubWO5isspDFjpfTqIkr9HE\"\n",
    "AT = \"1517107959049846784-Q3bpbGOXcpDSh7EJ3EcAdPPL7T2LT9\"\n",
    "AS = \"fZea1RAUSLDiiuTkPCpK3PFMlma87UsjU3RT5iM7R08Ao\"\n",
    "\n",
    "f = open('ryousyoku2.txt', 'r', encoding='UTF-8')\n",
    "\n",
    "data2 = f.read()\n",
    "print(data2)\n",
    "\n",
    "STATUS2 = data2\n",
    "\n",
    "def main():\n",
    "    makeAPI().update_status(STATUS2)\n",
    "\n",
    "def makeAPI():\n",
    "    auth = tweepy.OAuthHandler(CK,CS)\n",
    "    auth.set_access_token(AT,AS)\n",
    "    return tweepy.API(auth)\n",
    "\n",
    "if __name__ == \"__main__\":\n",
    "  main()"
   ]
  },
  {
   "cell_type": "code",
   "execution_count": 4,
   "metadata": {},
   "outputs": [
    {
     "name": "stdout",
     "output_type": "stream",
     "text": [
      "4月28日\n",
      "(木)\n",
      "\n",
      "------------- 昼食 --------------\n",
      "竹輪天うどん\n",
      "厚揚げとキャベツの味噌炒め\n",
      "どら焼きこしあん\n",
      "0\n",
      "ご飯・コールスローサラダ\n",
      "\n"
     ]
    }
   ],
   "source": [
    "#昼食をツイート\n",
    "import tweepy\n",
    "CK = \"ZhiQDXi3WTgVg1cmBXgTimDkt\"\n",
    "CS = \"DkfEjACdtF9K7cFQbzIrnNRvQ1oLubWO5isspDFjpfTqIkr9HE\"\n",
    "AT = \"1517107959049846784-Q3bpbGOXcpDSh7EJ3EcAdPPL7T2LT9\"\n",
    "AS = \"fZea1RAUSLDiiuTkPCpK3PFMlma87UsjU3RT5iM7R08Ao\"\n",
    "\n",
    "f = open('ryousyoku3.txt', 'r', encoding='UTF-8')\n",
    "\n",
    "data = f.read()\n",
    "print(data)\n",
    "\n",
    "STATUS = data\n",
    "\n",
    "def main():\n",
    "    makeAPI().update_status(STATUS)\n",
    "\n",
    "def makeAPI():\n",
    "    auth = tweepy.OAuthHandler(CK,CS)\n",
    "    auth.set_access_token(AT,AS)\n",
    "    return tweepy.API(auth)\n",
    "\n",
    "if __name__ == \"__main__\":\n",
    "  main()"
   ]
  },
  {
   "cell_type": "code",
   "execution_count": 5,
   "metadata": {},
   "outputs": [
    {
     "name": "stdout",
     "output_type": "stream",
     "text": [
      "4月28日\n",
      "(木)\n",
      "\n",
      "------------- 朝食 -------------\n",
      "納豆\n",
      "油揚と大根の煮付け\n",
      "わかめと玉葱の味噌汁\n",
      "ご飯 or\n",
      "パン・ジャム・マーガリン\n",
      "フリードリンク\n",
      "\n"
     ]
    }
   ],
   "source": [
    "#朝食をツイート\n",
    "import tweepy\n",
    "CK = \"ZhiQDXi3WTgVg1cmBXgTimDkt\"\n",
    "CS = \"DkfEjACdtF9K7cFQbzIrnNRvQ1oLubWO5isspDFjpfTqIkr9HE\"\n",
    "AT = \"1517107959049846784-Q3bpbGOXcpDSh7EJ3EcAdPPL7T2LT9\"\n",
    "AS = \"fZea1RAUSLDiiuTkPCpK3PFMlma87UsjU3RT5iM7R08Ao\"\n",
    "\n",
    "f = open('ryousyoku.txt', 'r', encoding='UTF-8')\n",
    "\n",
    "data = f.read()\n",
    "print(data)\n",
    "\n",
    "STATUS = data\n",
    "\n",
    "def main():\n",
    "    makeAPI().update_status(STATUS)\n",
    "\n",
    "def makeAPI():\n",
    "    auth = tweepy.OAuthHandler(CK,CS)\n",
    "    auth.set_access_token(AT,AS)\n",
    "    return tweepy.API(auth)\n",
    "\n",
    "if __name__ == \"__main__\":\n",
    "  main()"
   ]
  }
 ],
 "metadata": {
  "interpreter": {
   "hash": "071b7660455c33f3bbd21acc459406e674512c2c27cf91c6dab1c1b833b71ae6"
  },
  "kernelspec": {
   "display_name": "Python 3.9.7 ('base')",
   "language": "python",
   "name": "python3"
  },
  "language_info": {
   "codemirror_mode": {
    "name": "ipython",
    "version": 3
   },
   "file_extension": ".py",
   "mimetype": "text/x-python",
   "name": "python",
   "nbconvert_exporter": "python",
   "pygments_lexer": "ipython3",
   "version": "3.9.7"
  },
  "orig_nbformat": 4
 },
 "nbformat": 4,
 "nbformat_minor": 2
}
